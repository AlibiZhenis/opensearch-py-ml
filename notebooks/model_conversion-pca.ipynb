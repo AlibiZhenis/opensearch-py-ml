{
 "cells": [
  {
   "cell_type": "code",
   "execution_count": 2,
   "id": "04661765",
   "metadata": {
    "execution": {
     "iopub.execute_input": "2023-04-03T08:30:14.995226Z",
     "iopub.status.busy": "2023-04-03T08:30:14.994896Z",
     "iopub.status.idle": "2023-04-03T08:30:20.997740Z",
     "shell.execute_reply": "2023-04-03T08:30:20.996743Z"
    },
    "papermill": {
     "duration": 6.01332,
     "end_time": "2023-04-03T08:30:21.000200",
     "exception": false,
     "start_time": "2023-04-03T08:30:14.986880",
     "status": "completed"
    },
    "tags": []
   },
   "outputs": [
    {
     "name": "stderr",
     "output_type": "stream",
     "text": [
      "/Users/AlibiZhenis/PycharmProjects/opensearch-ml/venv/lib/python3.9/site-packages/skl2onnx/algebra/onnx_ops.py:159: UserWarning: OpSchema.FormalParameter.typeStr is deprecated and will be removed in 1.16. Use OpSchema.FormalParameter.type_str instead.\n",
      "  tys = obj.typeStr or ''\n",
      "/Users/AlibiZhenis/PycharmProjects/opensearch-ml/venv/lib/python3.9/site-packages/skl2onnx/algebra/automation.py:154: UserWarning: OpSchema.FormalParameter.isHomogeneous is deprecated and will be removed in 1.16. Use OpSchema.FormalParameter.is_homogeneous instead.\n",
      "  if getattr(obj, 'isHomogeneous', False):\n",
      "/Users/AlibiZhenis/PycharmProjects/opensearch-ml/venv/lib/python3.9/site-packages/jinja2/environment.py:485: UserWarning: OpSchema.FormalParameter.typeStr is deprecated and will be removed in 1.16. Use OpSchema.FormalParameter.type_str instead.\n",
      "  return getattr(obj, attribute)\n"
     ]
    }
   ],
   "source": [
    "from sklearn.decomposition import PCA, KernelPCA, TruncatedSVD\n",
    "from sklearn import datasets\n",
    "import sklearn\n",
    "import hummingbird.ml as hb\n",
    "import torch\n",
    "import pandas as pd\n",
    "import numpy as np\n",
    "import matplotlib.pyplot as plt\n",
    "from skl2onnx import convert_sklearn, to_onnx\n",
    "import onnxruntime as rt"
   ]
  },
  {
   "cell_type": "markdown",
   "id": "4f287fbf",
   "metadata": {
    "papermill": {
     "duration": 0.006598,
     "end_time": "2023-04-03T08:30:21.013802",
     "exception": false,
     "start_time": "2023-04-03T08:30:21.007204",
     "status": "completed"
    },
    "tags": []
   },
   "source": [
    "# Load breast cancer wisconsin dataset"
   ]
  },
  {
   "cell_type": "code",
   "execution_count": 3,
   "id": "f619a434",
   "metadata": {
    "execution": {
     "iopub.execute_input": "2023-04-03T08:30:21.028485Z",
     "iopub.status.busy": "2023-04-03T08:30:21.028183Z",
     "iopub.status.idle": "2023-04-03T08:30:21.044606Z",
     "shell.execute_reply": "2023-04-03T08:30:21.043725Z"
    },
    "papermill": {
     "duration": 0.026204,
     "end_time": "2023-04-03T08:30:21.046731",
     "exception": false,
     "start_time": "2023-04-03T08:30:21.020527",
     "status": "completed"
    },
    "tags": []
   },
   "outputs": [],
   "source": [
    "random_state=0\n",
    "X, y = datasets.load_breast_cancer(return_X_y=True)\n",
    "X_train, X_test, y_train, y_test = sklearn.model_selection.train_test_split(X, y, \n",
    "                                      test_size=0.3, random_state=random_state)"
   ]
  },
  {
   "cell_type": "markdown",
   "id": "af30c5ac",
   "metadata": {
    "papermill": {
     "duration": 0.006551,
     "end_time": "2023-04-03T08:30:21.060014",
     "exception": false,
     "start_time": "2023-04-03T08:30:21.053463",
     "status": "completed"
    },
    "tags": []
   },
   "source": [
    "# Initialize and fit the models to training set"
   ]
  },
  {
   "cell_type": "code",
   "execution_count": 4,
   "id": "b8734b45",
   "metadata": {
    "execution": {
     "iopub.execute_input": "2023-04-03T08:30:21.074460Z",
     "iopub.status.busy": "2023-04-03T08:30:21.074185Z",
     "iopub.status.idle": "2023-04-03T08:30:21.079004Z",
     "shell.execute_reply": "2023-04-03T08:30:21.077863Z"
    },
    "papermill": {
     "duration": 0.01476,
     "end_time": "2023-04-03T08:30:21.081377",
     "exception": false,
     "start_time": "2023-04-03T08:30:21.066617",
     "status": "completed"
    },
    "tags": []
   },
   "outputs": [],
   "source": [
    "n_components = 15\n",
    "sklearn_models = [\n",
    "    PCA(n_components=n_components),\n",
    "    KernelPCA(n_components=n_components),\n",
    "    TruncatedSVD(n_components=n_components)\n",
    "]"
   ]
  },
  {
   "cell_type": "code",
   "execution_count": 5,
   "id": "7e9d1846",
   "metadata": {
    "execution": {
     "iopub.execute_input": "2023-04-03T08:30:21.095788Z",
     "iopub.status.busy": "2023-04-03T08:30:21.095482Z",
     "iopub.status.idle": "2023-04-03T08:30:21.147753Z",
     "shell.execute_reply": "2023-04-03T08:30:21.146433Z"
    },
    "papermill": {
     "duration": 0.063221,
     "end_time": "2023-04-03T08:30:21.151195",
     "exception": false,
     "start_time": "2023-04-03T08:30:21.087974",
     "status": "completed"
    },
    "tags": []
   },
   "outputs": [],
   "source": [
    "for model in sklearn_models:\n",
    "    model.fit(X_train)"
   ]
  },
  {
   "cell_type": "markdown",
   "id": "f29b836e",
   "metadata": {
    "papermill": {
     "duration": 0.01656,
     "end_time": "2023-04-03T08:30:21.185291",
     "exception": false,
     "start_time": "2023-04-03T08:30:21.168731",
     "status": "completed"
    },
    "tags": []
   },
   "source": [
    "# Convert the models to torchscript using Hummingbird and test the results"
   ]
  },
  {
   "cell_type": "code",
   "execution_count": 6,
   "id": "92fd2018",
   "metadata": {
    "execution": {
     "iopub.execute_input": "2023-04-03T08:30:21.221364Z",
     "iopub.status.busy": "2023-04-03T08:30:21.220833Z",
     "iopub.status.idle": "2023-04-03T08:30:21.651509Z",
     "shell.execute_reply": "2023-04-03T08:30:21.650460Z"
    },
    "papermill": {
     "duration": 0.451658,
     "end_time": "2023-04-03T08:30:21.653825",
     "exception": false,
     "start_time": "2023-04-03T08:30:21.202167",
     "status": "completed"
    },
    "tags": []
   },
   "outputs": [],
   "source": [
    "torch_models = []\n",
    "for model in sklearn_models:\n",
    "    torch_model = hb.convert(model, \"TorchScript\", test_input = X_train)\n",
    "    torch_models.append(torch_model)"
   ]
  },
  {
   "cell_type": "code",
   "execution_count": 27,
   "id": "94f5295d",
   "metadata": {
    "execution": {
     "iopub.execute_input": "2023-04-03T08:30:21.669293Z",
     "iopub.status.busy": "2023-04-03T08:30:21.668990Z",
     "iopub.status.idle": "2023-04-03T08:30:21.683802Z",
     "shell.execute_reply": "2023-04-03T08:30:21.682530Z"
    },
    "papermill": {
     "duration": 0.024904,
     "end_time": "2023-04-03T08:30:21.686000",
     "exception": false,
     "start_time": "2023-04-03T08:30:21.661096",
     "status": "completed"
    },
    "tags": []
   },
   "outputs": [
    {
     "name": "stdout",
     "output_type": "stream",
     "text": [
      "Do sklearn and torch PCA models generate close results?\n",
      "True\n",
      "Do sklearn and torch KernelPCA models generate close results?\n",
      "True\n",
      "Do sklearn and torch TruncatedSVD models generate close results?\n",
      "True\n"
     ]
    }
   ],
   "source": [
    "for i, model_name in enumerate([\"PCA\", \"KernelPCA\", \"TruncatedSVD\"]):\n",
    "    sklearn_transformed = sklearn_models[i].transform(X_test)\n",
    "    torch_transformed = torch_models[i].transform(X_test)\n",
    "    print(\"Do sklearn and torch \"+model_name+\" models generate close results?\")\n",
    "    res = np.allclose(sklearn_transformed, torch_transformed, atol=1)\n",
    "    print(res)"
   ]
  },
  {
   "cell_type": "markdown",
   "source": [
    "KernelPCA produces the same results with absolute tolerance (atol) equal to 1, but not 0.1."
   ],
   "metadata": {
    "collapsed": false
   }
  },
  {
   "cell_type": "markdown",
   "id": "c7c679b8",
   "metadata": {
    "papermill": {
     "duration": 0.006634,
     "end_time": "2023-04-03T08:30:21.699490",
     "exception": false,
     "start_time": "2023-04-03T08:30:21.692856",
     "status": "completed"
    },
    "tags": []
   },
   "source": [
    "# Convert the models to onnx using skl2onnx and test the results"
   ]
  },
  {
   "cell_type": "code",
   "execution_count": 21,
   "id": "690dc468",
   "metadata": {
    "execution": {
     "iopub.execute_input": "2023-04-03T08:30:21.715856Z",
     "iopub.status.busy": "2023-04-03T08:30:21.714894Z",
     "iopub.status.idle": "2023-04-03T08:30:21.742610Z",
     "shell.execute_reply": "2023-04-03T08:30:21.741688Z"
    },
    "papermill": {
     "duration": 0.037798,
     "end_time": "2023-04-03T08:30:21.744919",
     "exception": false,
     "start_time": "2023-04-03T08:30:21.707121",
     "status": "completed"
    },
    "tags": []
   },
   "outputs": [],
   "source": [
    "onnx_models = []\n",
    "for model in sklearn_models:\n",
    "    onnx_model = to_onnx(model, X = X_train)\n",
    "    onnx_models.append(onnx_model)"
   ]
  },
  {
   "cell_type": "code",
   "execution_count": 29,
   "id": "005e656f",
   "metadata": {
    "execution": {
     "iopub.execute_input": "2023-04-03T08:30:21.760205Z",
     "iopub.status.busy": "2023-04-03T08:30:21.759902Z",
     "iopub.status.idle": "2023-04-03T08:30:21.774192Z",
     "shell.execute_reply": "2023-04-03T08:30:21.773077Z"
    },
    "papermill": {
     "duration": 0.024592,
     "end_time": "2023-04-03T08:30:21.776553",
     "exception": false,
     "start_time": "2023-04-03T08:30:21.751961",
     "status": "completed"
    },
    "tags": []
   },
   "outputs": [
    {
     "name": "stdout",
     "output_type": "stream",
     "text": [
      "Do sklearn and onnx PCA models generate close results?\n",
      "True\n",
      "Do sklearn and onnx KernelPCA models generate close results?\n",
      "True\n",
      "Do sklearn and onnx TruncatedSVD models generate close results?\n",
      "True\n"
     ]
    }
   ],
   "source": [
    "for i, model_name in enumerate([\"PCA\", \"KernelPCA\", \"TruncatedSVD\"]):\n",
    "    sklearn_transformed = sklearn_models[i].transform(X_test)\n",
    "    sess = rt.InferenceSession(onnx_models[i].SerializeToString())\n",
    "    input_name = sess.get_inputs()[0].name\n",
    "    label_name = sess.get_outputs()[0].name\n",
    "    onnx_transformed = sess.run([label_name], {input_name: X_test})[0]\n",
    "    \n",
    "    print(\"Do sklearn and onnx \"+model_name+\" models generate close results?\")\n",
    "    res = np.allclose(sklearn_transformed, onnx_transformed, atol=1e-04)\n",
    "    print(res)"
   ]
  },
  {
   "cell_type": "markdown",
   "id": "bc8b1619",
   "metadata": {
    "papermill": {
     "duration": 0.006735,
     "end_time": "2023-04-03T08:30:21.790552",
     "exception": false,
     "start_time": "2023-04-03T08:30:21.783817",
     "status": "completed"
    },
    "tags": []
   },
   "source": [
    "# Conclusion"
   ]
  },
  {
   "cell_type": "markdown",
   "id": "b355749c",
   "metadata": {
    "papermill": {
     "duration": 0.006655,
     "end_time": "2023-04-03T08:30:21.804073",
     "exception": false,
     "start_time": "2023-04-03T08:30:21.797418",
     "status": "completed"
    },
    "tags": []
   },
   "source": [
    "Hummingbird successfully converted the models to torchscript, and the results of the converted models match those of initial sklearn models. However, it can't convert them to onnx. Also, note that converted KernelPCA model matches the results of an initial model only with absolute tolerance of 1.\n",
    "\n",
    "Skl2onnx successfully converted the models to ONNX, and the results of all converted models match those of initial sklearn models.\n"
   ]
  }
 ],
 "metadata": {
  "kernelspec": {
   "display_name": "Python 3",
   "language": "python",
   "name": "python3"
  },
  "language_info": {
   "codemirror_mode": {
    "name": "ipython",
    "version": 3
   },
   "file_extension": ".py",
   "mimetype": "text/x-python",
   "name": "python",
   "nbconvert_exporter": "python",
   "pygments_lexer": "ipython3",
   "version": "3.7.12"
  },
  "papermill": {
   "default_parameters": {},
   "duration": 151.301612,
   "end_time": "2023-04-03T08:30:23.234391",
   "environment_variables": {},
   "exception": null,
   "input_path": "__notebook__.ipynb",
   "output_path": "__notebook__.ipynb",
   "parameters": {},
   "start_time": "2023-04-03T08:27:51.932779",
   "version": "2.4.0"
  }
 },
 "nbformat": 4,
 "nbformat_minor": 5
}
