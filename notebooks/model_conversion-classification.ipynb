{
 "cells": [
  {
   "cell_type": "code",
   "execution_count": 1,
   "id": "1442641b",
   "metadata": {
    "execution": {
     "iopub.execute_input": "2023-04-03T11:44:01.449551Z",
     "iopub.status.busy": "2023-04-03T11:44:01.448772Z",
     "iopub.status.idle": "2023-04-03T11:44:07.593686Z",
     "shell.execute_reply": "2023-04-03T11:44:07.592615Z"
    },
    "papermill": {
     "duration": 6.165388,
     "end_time": "2023-04-03T11:44:07.596577",
     "exception": false,
     "start_time": "2023-04-03T11:44:01.431189",
     "status": "completed"
    },
    "tags": []
   },
   "outputs": [
    {
     "name": "stderr",
     "output_type": "stream",
     "text": [
      "/Users/AlibiZhenis/PycharmProjects/opensearch-ml/venv/lib/python3.9/site-packages/skl2onnx/algebra/onnx_ops.py:159: UserWarning: OpSchema.FormalParameter.typeStr is deprecated and will be removed in 1.16. Use OpSchema.FormalParameter.type_str instead.\n",
      "  tys = obj.typeStr or ''\n",
      "/Users/AlibiZhenis/PycharmProjects/opensearch-ml/venv/lib/python3.9/site-packages/skl2onnx/algebra/automation.py:154: UserWarning: OpSchema.FormalParameter.isHomogeneous is deprecated and will be removed in 1.16. Use OpSchema.FormalParameter.is_homogeneous instead.\n",
      "  if getattr(obj, 'isHomogeneous', False):\n",
      "/Users/AlibiZhenis/PycharmProjects/opensearch-ml/venv/lib/python3.9/site-packages/jinja2/environment.py:485: UserWarning: OpSchema.FormalParameter.typeStr is deprecated and will be removed in 1.16. Use OpSchema.FormalParameter.type_str instead.\n",
      "  return getattr(obj, attribute)\n"
     ]
    }
   ],
   "source": [
    "from sklearn import decomposition\n",
    "from sklearn import datasets\n",
    "import sklearn\n",
    "import hummingbird.ml as hb\n",
    "import torch\n",
    "import pandas as pd\n",
    "import numpy as np\n",
    "import matplotlib.pyplot as plt\n",
    "from skl2onnx import to_onnx\n",
    "import onnxruntime as rt"
   ]
  },
  {
   "cell_type": "code",
   "execution_count": 2,
   "id": "1a514196",
   "metadata": {
    "execution": {
     "iopub.execute_input": "2023-04-03T11:44:07.616665Z",
     "iopub.status.busy": "2023-04-03T11:44:07.615801Z",
     "iopub.status.idle": "2023-04-03T11:44:07.621610Z",
     "shell.execute_reply": "2023-04-03T11:44:07.620582Z"
    },
    "papermill": {
     "duration": 0.018207,
     "end_time": "2023-04-03T11:44:07.623804",
     "exception": false,
     "start_time": "2023-04-03T11:44:07.605597",
     "status": "completed"
    },
    "tags": []
   },
   "outputs": [],
   "source": [
    "from sklearn.ensemble import RandomForestClassifier\n",
    "from sklearn.svm import LinearSVC\n",
    "from sklearn.neighbors import KNeighborsClassifier\n",
    "random_state = 0"
   ]
  },
  {
   "cell_type": "markdown",
   "id": "18d482c2",
   "metadata": {
    "papermill": {
     "duration": 0.008193,
     "end_time": "2023-04-03T11:44:07.640800",
     "exception": false,
     "start_time": "2023-04-03T11:44:07.632607",
     "status": "completed"
    },
    "tags": []
   },
   "source": [
    "# Loading breast cancer wisconsin dataset"
   ]
  },
  {
   "cell_type": "code",
   "execution_count": 3,
   "id": "b53c7f7c",
   "metadata": {
    "execution": {
     "iopub.execute_input": "2023-04-03T11:44:07.658998Z",
     "iopub.status.busy": "2023-04-03T11:44:07.658608Z",
     "iopub.status.idle": "2023-04-03T11:44:07.675607Z",
     "shell.execute_reply": "2023-04-03T11:44:07.674643Z"
    },
    "papermill": {
     "duration": 0.029064,
     "end_time": "2023-04-03T11:44:07.678208",
     "exception": false,
     "start_time": "2023-04-03T11:44:07.649144",
     "status": "completed"
    },
    "tags": []
   },
   "outputs": [],
   "source": [
    "X, y = datasets.load_breast_cancer(return_X_y=True)\n",
    "X_train, X_test, y_train, y_test = sklearn.model_selection.train_test_split(X, y, \n",
    "                                      test_size=0.3, random_state=random_state)"
   ]
  },
  {
   "cell_type": "markdown",
   "id": "1518b910",
   "metadata": {
    "papermill": {
     "duration": 0.008037,
     "end_time": "2023-04-03T11:44:07.695713",
     "exception": false,
     "start_time": "2023-04-03T11:44:07.687676",
     "status": "completed"
    },
    "tags": []
   },
   "source": [
    "# Initializing and fitting the models"
   ]
  },
  {
   "cell_type": "code",
   "execution_count": 4,
   "id": "b027f575",
   "metadata": {
    "execution": {
     "iopub.execute_input": "2023-04-03T11:44:07.714843Z",
     "iopub.status.busy": "2023-04-03T11:44:07.713799Z",
     "iopub.status.idle": "2023-04-03T11:44:07.719765Z",
     "shell.execute_reply": "2023-04-03T11:44:07.718876Z"
    },
    "papermill": {
     "duration": 0.017737,
     "end_time": "2023-04-03T11:44:07.722001",
     "exception": false,
     "start_time": "2023-04-03T11:44:07.704264",
     "status": "completed"
    },
    "tags": []
   },
   "outputs": [],
   "source": [
    "RF = RandomForestClassifier(random_state = random_state, max_depth=10)\n",
    "SVC = LinearSVC(random_state = random_state)\n",
    "KNN = KNeighborsClassifier()\n",
    "sklearn_models = [RF, SVC, KNN]"
   ]
  },
  {
   "cell_type": "code",
   "execution_count": 5,
   "id": "906dafe3",
   "metadata": {
    "execution": {
     "iopub.execute_input": "2023-04-03T11:44:07.741970Z",
     "iopub.status.busy": "2023-04-03T11:44:07.740800Z",
     "iopub.status.idle": "2023-04-03T11:44:07.957647Z",
     "shell.execute_reply": "2023-04-03T11:44:07.956199Z"
    },
    "papermill": {
     "duration": 0.230968,
     "end_time": "2023-04-03T11:44:07.961665",
     "exception": false,
     "start_time": "2023-04-03T11:44:07.730697",
     "status": "completed"
    },
    "tags": []
   },
   "outputs": [
    {
     "name": "stderr",
     "output_type": "stream",
     "text": [
      "/Users/AlibiZhenis/PycharmProjects/opensearch-ml/venv/lib/python3.9/site-packages/sklearn/svm/_base.py:1244: ConvergenceWarning: Liblinear failed to converge, increase the number of iterations.\n",
      "  warnings.warn(\n"
     ]
    }
   ],
   "source": [
    "for model in sklearn_models:\n",
    "    model.fit(X_train, y_train)"
   ]
  },
  {
   "cell_type": "markdown",
   "id": "36dca6c9",
   "metadata": {
    "papermill": {
     "duration": 0.008582,
     "end_time": "2023-04-03T11:44:07.980088",
     "exception": false,
     "start_time": "2023-04-03T11:44:07.971506",
     "status": "completed"
    },
    "tags": []
   },
   "source": [
    "# Convert the models to torchscript using Hummingbird and test the results (visualized further below)"
   ]
  },
  {
   "cell_type": "markdown",
   "id": "8f811271",
   "metadata": {
    "papermill": {
     "duration": 0.007784,
     "end_time": "2023-04-03T11:44:07.996113",
     "exception": false,
     "start_time": "2023-04-03T11:44:07.988329",
     "status": "completed"
    },
    "tags": []
   },
   "source": [
    "RandomForest and LinearSVC"
   ]
  },
  {
   "cell_type": "code",
   "execution_count": 6,
   "id": "1ec286fa",
   "metadata": {
    "execution": {
     "iopub.execute_input": "2023-04-03T11:44:08.014735Z",
     "iopub.status.busy": "2023-04-03T11:44:08.013821Z",
     "iopub.status.idle": "2023-04-03T11:44:08.463774Z",
     "shell.execute_reply": "2023-04-03T11:44:08.462727Z"
    },
    "papermill": {
     "duration": 0.461911,
     "end_time": "2023-04-03T11:44:08.466460",
     "exception": false,
     "start_time": "2023-04-03T11:44:08.004549",
     "status": "completed"
    },
    "tags": []
   },
   "outputs": [],
   "source": [
    "torch_models = []\n",
    "for model in sklearn_models[:2]:\n",
    "    torch_model = hb.convert(model, \"TorchScript\", \n",
    "                             test_input = np.array(X_train[0]).reshape(1, -1))\n",
    "    torch_models.append(torch_model)"
   ]
  },
  {
   "cell_type": "markdown",
   "id": "1c798448",
   "metadata": {
    "papermill": {
     "duration": 0.008323,
     "end_time": "2023-04-03T11:44:08.483954",
     "exception": false,
     "start_time": "2023-04-03T11:44:08.475631",
     "status": "completed"
    },
    "tags": []
   },
   "source": [
    "K Nearest Neighbors"
   ]
  },
  {
   "cell_type": "code",
   "execution_count": 8,
   "id": "836880dc",
   "metadata": {
    "execution": {
     "iopub.execute_input": "2023-04-03T11:44:08.502471Z",
     "iopub.status.busy": "2023-04-03T11:44:08.501534Z",
     "iopub.status.idle": "2023-04-03T11:44:08.553885Z",
     "shell.execute_reply": "2023-04-03T11:44:08.552831Z"
    },
    "papermill": {
     "duration": 0.064338,
     "end_time": "2023-04-03T11:44:08.556536",
     "exception": false,
     "start_time": "2023-04-03T11:44:08.492198",
     "status": "completed"
    },
    "tags": []
   },
   "outputs": [],
   "source": [
    "extra_config = {hb.operator_converters.constants.BATCH_SIZE: 1}\n",
    "knn = hb.convert_batch(sklearn_models[2], \"TorchScript\", \n",
    "                         test_input = np.array(X_train[0]).reshape(1, -1),\n",
    "                         extra_config=extra_config)\n",
    "torch_models.append(knn)"
   ]
  },
  {
   "cell_type": "code",
   "execution_count": 9,
   "id": "5656ae60",
   "metadata": {
    "execution": {
     "iopub.execute_input": "2023-04-03T11:44:08.575400Z",
     "iopub.status.busy": "2023-04-03T11:44:08.575070Z",
     "iopub.status.idle": "2023-04-03T11:44:08.621044Z",
     "shell.execute_reply": "2023-04-03T11:44:08.619454Z"
    },
    "papermill": {
     "duration": 0.05967,
     "end_time": "2023-04-03T11:44:08.625006",
     "exception": false,
     "start_time": "2023-04-03T11:44:08.565336",
     "status": "completed"
    },
    "tags": []
   },
   "outputs": [],
   "source": [
    "sklearn_scores = []\n",
    "for model in sklearn_models:\n",
    "    y_pred = model.predict(X_test)\n",
    "    res = {\n",
    "        \"accuracy\": sklearn.metrics.accuracy_score(y_test, y_pred),\n",
    "        \"precision\": sklearn.metrics.precision_score(y_test, y_pred),\n",
    "        \"recall\": sklearn.metrics.recall_score(y_test, y_pred)\n",
    "    }\n",
    "    sklearn_scores.append(res)"
   ]
  },
  {
   "cell_type": "code",
   "execution_count": 10,
   "id": "69962243",
   "metadata": {
    "execution": {
     "iopub.execute_input": "2023-04-03T11:44:08.676277Z",
     "iopub.status.busy": "2023-04-03T11:44:08.675599Z",
     "iopub.status.idle": "2023-04-03T11:44:08.780114Z",
     "shell.execute_reply": "2023-04-03T11:44:08.778998Z"
    },
    "papermill": {
     "duration": 0.133671,
     "end_time": "2023-04-03T11:44:08.782879",
     "exception": false,
     "start_time": "2023-04-03T11:44:08.649208",
     "status": "completed"
    },
    "tags": []
   },
   "outputs": [],
   "source": [
    "torch_scores = []\n",
    "for model in torch_models:\n",
    "    y_pred = model.predict(X_test)\n",
    "    res = {\n",
    "        \"accuracy\": sklearn.metrics.accuracy_score(y_test, y_pred),\n",
    "        \"precision\": sklearn.metrics.precision_score(y_test, y_pred),\n",
    "        \"recall\": sklearn.metrics.recall_score(y_test, y_pred)\n",
    "    }\n",
    "    torch_scores.append(res)"
   ]
  },
  {
   "cell_type": "markdown",
   "id": "2016593f",
   "metadata": {
    "papermill": {
     "duration": 0.008378,
     "end_time": "2023-04-03T11:44:08.800829",
     "exception": false,
     "start_time": "2023-04-03T11:44:08.792451",
     "status": "completed"
    },
    "tags": []
   },
   "source": [
    "# Convert the models to ONNX using skl2onnx and test the results (visualized further below)"
   ]
  },
  {
   "cell_type": "code",
   "execution_count": 11,
   "id": "f14f0072",
   "metadata": {
    "execution": {
     "iopub.execute_input": "2023-04-03T11:44:08.819302Z",
     "iopub.status.busy": "2023-04-03T11:44:08.818607Z",
     "iopub.status.idle": "2023-04-03T11:44:08.946016Z",
     "shell.execute_reply": "2023-04-03T11:44:08.944984Z"
    },
    "papermill": {
     "duration": 0.139599,
     "end_time": "2023-04-03T11:44:08.948727",
     "exception": false,
     "start_time": "2023-04-03T11:44:08.809128",
     "status": "completed"
    },
    "tags": []
   },
   "outputs": [],
   "source": [
    "onnx_models = []\n",
    "for model in sklearn_models:\n",
    "    onnx_model = to_onnx(model, X = X_train.astype(np.float32))\n",
    "    onnx_models.append(onnx_model)"
   ]
  },
  {
   "cell_type": "code",
   "execution_count": 12,
   "id": "bb60fe77",
   "metadata": {
    "execution": {
     "iopub.execute_input": "2023-04-03T11:44:08.967336Z",
     "iopub.status.busy": "2023-04-03T11:44:08.966978Z",
     "iopub.status.idle": "2023-04-03T11:44:09.000856Z",
     "shell.execute_reply": "2023-04-03T11:44:08.999859Z"
    },
    "papermill": {
     "duration": 0.04565,
     "end_time": "2023-04-03T11:44:09.003175",
     "exception": false,
     "start_time": "2023-04-03T11:44:08.957525",
     "status": "completed"
    },
    "tags": []
   },
   "outputs": [],
   "source": [
    "onnx_scores = []\n",
    "for model in onnx_models:\n",
    "    sess = rt.InferenceSession(model.SerializeToString())\n",
    "    input_name = sess.get_inputs()[0].name\n",
    "    label_name = sess.get_outputs()[0].name\n",
    "    y_pred = sess.run([label_name], {input_name: X_test.astype(np.float32)})[0]\n",
    "    \n",
    "    res = {\n",
    "        \"accuracy\": sklearn.metrics.accuracy_score(y_test, y_pred),\n",
    "        \"precision\": sklearn.metrics.precision_score(y_test, y_pred),\n",
    "        \"recall\": sklearn.metrics.recall_score(y_test, y_pred)\n",
    "    }\n",
    "    onnx_scores.append(res)"
   ]
  },
  {
   "cell_type": "markdown",
   "id": "77545f6f",
   "metadata": {
    "papermill": {
     "duration": 0.008105,
     "end_time": "2023-04-03T11:44:09.019982",
     "exception": false,
     "start_time": "2023-04-03T11:44:09.011877",
     "status": "completed"
    },
    "tags": []
   },
   "source": [
    "# Visualizing inference results"
   ]
  },
  {
   "cell_type": "code",
   "execution_count": 13,
   "id": "85709585",
   "metadata": {
    "execution": {
     "iopub.execute_input": "2023-04-03T11:44:09.038610Z",
     "iopub.status.busy": "2023-04-03T11:44:09.038201Z",
     "iopub.status.idle": "2023-04-03T11:44:09.635831Z",
     "shell.execute_reply": "2023-04-03T11:44:09.634776Z"
    },
    "papermill": {
     "duration": 0.609933,
     "end_time": "2023-04-03T11:44:09.638441",
     "exception": false,
     "start_time": "2023-04-03T11:44:09.028508",
     "status": "completed"
    },
    "tags": []
   },
   "outputs": [
    {
     "data": {
      "text/plain": "<Figure size 640x480 with 1 Axes>",
      "image/png": "[encoded data removed]"
     },
     "metadata": {},
     "output_type": "display_data"
    },
    {
     "data": {
      "text/plain": "<Figure size 640x480 with 1 Axes>",
      "image/png": "[encoded data removed]"
     },
     "metadata": {},
     "output_type": "display_data"
    },
    {
     "data": {
      "text/plain": "<Figure size 640x480 with 1 Axes>",
      "image/png": "[encoded data removed]"
     },
     "metadata": {},
     "output_type": "display_data"
    }
   ],
   "source": [
    "for i, model in enumerate([\"RF\", \"SVC\", \"KNN\"]):\n",
    "    data = (\n",
    "        (sklearn_scores[i][\"accuracy\"], torch_scores[i][\"accuracy\"], onnx_scores[i][\"accuracy\"]), \n",
    "        (sklearn_scores[i][\"precision\"], torch_scores[i][\"precision\"], onnx_scores[i][\"precision\"]), \n",
    "        (sklearn_scores[i][\"recall\"], torch_scores[i][\"recall\"], onnx_scores[i][\"recall\"])\n",
    "    )\n",
    "    dim = len(data[0])\n",
    "    w = 0.75\n",
    "    dimw = w / dim\n",
    "    \n",
    "    fig, ax = plt.subplots()\n",
    "    plt.title(model)\n",
    "    x = np.arange(len(data))\n",
    "    for i in range(len(data[0])):\n",
    "        y = [d[i] for d in data]\n",
    "        b = ax.bar(x + i * dimw, y, dimw, bottom=0.001)\n",
    "\n",
    "    ax.set_xticks(x + dimw / 2, labels=[\"accuracy\", \"precision\", \"recall\"])\n",
    "    plt.ylim(0.8, 1)\n",
    "    plt.show()"
   ]
  },
  {
   "cell_type": "markdown",
   "id": "122e0890",
   "metadata": {
    "papermill": {
     "duration": 0.009715,
     "end_time": "2023-04-03T11:44:09.658230",
     "exception": false,
     "start_time": "2023-04-03T11:44:09.648515",
     "status": "completed"
    },
    "tags": []
   },
   "source": [
    "# Conclusion"
   ]
  },
  {
   "cell_type": "markdown",
   "id": "1ba9d06c",
   "metadata": {
    "papermill": {
     "duration": 0.009556,
     "end_time": "2023-04-03T11:44:09.677496",
     "exception": false,
     "start_time": "2023-04-03T11:44:09.667940",
     "status": "completed"
    },
    "tags": []
   },
   "source": [
    "All three classifiers and their converted versions produce identical results.\n"
   ]
  }
 ],
 "metadata": {
  "kernelspec": {
   "display_name": "Python 3",
   "language": "python",
   "name": "python3"
  },
  "language_info": {
   "codemirror_mode": {
    "name": "ipython",
    "version": 3
   },
   "file_extension": ".py",
   "mimetype": "text/x-python",
   "name": "python",
   "nbconvert_exporter": "python",
   "pygments_lexer": "ipython3",
   "version": "3.7.12"
  },
  "papermill": {
   "default_parameters": {},
   "duration": 160.677595,
   "end_time": "2023-04-03T11:44:11.214031",
   "environment_variables": {},
   "exception": null,
   "input_path": "__notebook__.ipynb",
   "output_path": "__notebook__.ipynb",
   "parameters": {},
   "start_time": "2023-04-03T11:41:30.536436",
   "version": "2.4.0"
  }
 },
 "nbformat": 4,
 "nbformat_minor": 5
}
