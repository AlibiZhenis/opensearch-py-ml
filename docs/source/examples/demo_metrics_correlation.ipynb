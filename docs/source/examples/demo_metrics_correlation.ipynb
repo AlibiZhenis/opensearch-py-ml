{
 "cells": [
  {
   "cell_type": "markdown",
   "source": [
    "# Demo Notebook for Metrics Correlation Model Testing\n",
    "\n",
    "#### [Download notebook](https://github.com/opensearch-project/opensearch-py-ml/blob/main/docs/source/examples/demo_metrics_correlation.ipynb)\n",
    "\n",
    "\n",
    "## Introduction\n",
    "\n",
    "This notebook introduces the technique of metrics correlation using ML Commons API."
   ],
   "metadata": {
    "collapsed": false
   }
  },
  {
   "cell_type": "markdown",
   "source": [
    "## Step 0: Imports\n",
    "\n",
    "Please install the following packages from the terminal if you haven't already. They can be also installed from the notebook by uncommenting the line and execute."
   ],
   "metadata": {
    "collapsed": false
   }
  },
  {
   "cell_type": "code",
   "execution_count": 1,
   "outputs": [],
   "source": [
    "%load_ext autoreload\n",
    "%autoreload 2"
   ],
   "metadata": {
    "collapsed": false
   }
  },
  {
   "cell_type": "code",
   "execution_count": 2,
   "outputs": [],
   "source": [
    "# !pip install pandas matplotlib numpy opensearch-py opensearch-py-ml"
   ],
   "metadata": {
    "collapsed": false
   }
  },
  {
   "cell_type": "code",
   "execution_count": 3,
   "outputs": [],
   "source": [
    "# import this to stop opensearch-py-ml from yelling every time a DataFrame connection made\n",
    "import warnings\n",
    "warnings.filterwarnings('ignore')"
   ],
   "metadata": {
    "collapsed": false
   }
  },
  {
   "cell_type": "code",
   "execution_count": 4,
   "outputs": [],
   "source": [
    "import pandas as pd\n",
    "import numpy as np\n",
    "import matplotlib.pyplot as plt\n",
    "import opensearch_py_ml as oml\n",
    "from opensearchpy import OpenSearch\n",
    "\n",
    "# Import standard test settings for consistent results\n",
    "from opensearch_py_ml.conftest import *"
   ],
   "metadata": {
    "collapsed": false
   }
  },
  {
   "cell_type": "markdown",
   "source": [
    "## Step 1: Set up clients and define helper functions\n"
   ],
   "metadata": {
    "collapsed": false
   }
  },
  {
   "cell_type": "code",
   "execution_count": 5,
   "outputs": [],
   "source": [
    "CLUSTER_URL = 'https://localhost:9200'\n",
    "\n",
    "def get_os_client(cluster_url = CLUSTER_URL,\n",
    "                  username='admin',\n",
    "                  password='admin'):\n",
    "    '''\n",
    "    Get OpenSearch client\n",
    "    :param cluster_url: cluster URL like https://ml-te-netwo-1s12ba42br23v-ff1736fa7db98ff2.elb.us-west-2.amazonaws.com:443\n",
    "    :return: OpenSearch client\n",
    "    '''\n",
    "    client = OpenSearch(\n",
    "        hosts=[cluster_url],\n",
    "        http_auth=(username, password),\n",
    "        verify_certs=False\n",
    "    )\n",
    "    return client\n"
   ],
   "metadata": {
    "collapsed": false
   }
  },
  {
   "cell_type": "code",
   "execution_count": 6,
   "outputs": [],
   "source": [
    "client = get_os_client()"
   ],
   "metadata": {
    "collapsed": false
   }
  },
  {
   "cell_type": "code",
   "execution_count": 7,
   "outputs": [],
   "source": [
    "#connect to ml_common client with OpenSearch client\n",
    "from opensearch_py_ml.ml_commons import MLCommonClient\n",
    "ml_client = MLCommonClient(client)"
   ],
   "metadata": {
    "collapsed": false
   }
  },
  {
   "cell_type": "markdown",
   "source": [
    "## Step 2: Create data index\n"
   ],
   "metadata": {
    "collapsed": false
   }
  },
  {
   "cell_type": "code",
   "execution_count": 8,
   "outputs": [],
   "source": [
    "# Reading csv files as a dataframes\n",
    "df_pd = pd.read_csv(\"data/SMD_small.csv.zip\", header=None, index_col=None)\n",
    "Y = pd.read_csv(\"data/SMD_small_labels.csv.zip\", header=None, index_col=None)"
   ],
   "metadata": {
    "collapsed": false
   }
  },
  {
   "cell_type": "markdown",
   "source": [
    "There are 100 rows and 38 columns in the dataset. Each row represents a certain time point, while each columns represents a metric. This is a regular time series dataset."
   ],
   "metadata": {
    "collapsed": false
   }
  },
  {
   "cell_type": "code",
   "execution_count": 9,
   "outputs": [
    {
     "data": {
      "text/plain": "          0         1   ...   36   37\n0   0.096774  0.088983  ...  0.0  0.0\n1   0.107527  0.062500  ...  0.0  0.0\n2   0.107527  0.104873  ...  0.0  0.0\n3   0.096774  0.123941  ...  0.0  0.0\n4   0.096774  0.070975  ...  0.0  0.0\n..       ...       ...  ...  ...  ...\n95  0.494624  0.072034  ...  0.0  0.0\n96  0.494624  0.127119  ...  0.0  0.0\n97  0.494624  0.069915  ...  0.0  0.0\n98  0.494624  0.046610  ...  0.0  0.0\n99  0.494624  0.052966  ...  0.0  0.0\n\n[100 rows x 38 columns]",
      "text/html": "<div>\n<style scoped>\n    .dataframe tbody tr th:only-of-type {\n        vertical-align: middle;\n    }\n\n    .dataframe tbody tr th {\n        vertical-align: top;\n    }\n\n    .dataframe thead th {\n        text-align: right;\n    }\n</style>\n<table border=\"1\" class=\"dataframe\">\n  <thead>\n    <tr style=\"text-align: right;\">\n      <th></th>\n      <th>0</th>\n      <th>1</th>\n      <th>...</th>\n      <th>36</th>\n      <th>37</th>\n    </tr>\n  </thead>\n  <tbody>\n    <tr>\n      <th>0</th>\n      <td>0.096774</td>\n      <td>0.088983</td>\n      <td>...</td>\n      <td>0.0</td>\n      <td>0.0</td>\n    </tr>\n    <tr>\n      <th>1</th>\n      <td>0.107527</td>\n      <td>0.062500</td>\n      <td>...</td>\n      <td>0.0</td>\n      <td>0.0</td>\n    </tr>\n    <tr>\n      <th>2</th>\n      <td>0.107527</td>\n      <td>0.104873</td>\n      <td>...</td>\n      <td>0.0</td>\n      <td>0.0</td>\n    </tr>\n    <tr>\n      <th>3</th>\n      <td>0.096774</td>\n      <td>0.123941</td>\n      <td>...</td>\n      <td>0.0</td>\n      <td>0.0</td>\n    </tr>\n    <tr>\n      <th>4</th>\n      <td>0.096774</td>\n      <td>0.070975</td>\n      <td>...</td>\n      <td>0.0</td>\n      <td>0.0</td>\n    </tr>\n    <tr>\n      <th>...</th>\n      <td>...</td>\n      <td>...</td>\n      <td>...</td>\n      <td>...</td>\n      <td>...</td>\n    </tr>\n    <tr>\n      <th>95</th>\n      <td>0.494624</td>\n      <td>0.072034</td>\n      <td>...</td>\n      <td>0.0</td>\n      <td>0.0</td>\n    </tr>\n    <tr>\n      <th>96</th>\n      <td>0.494624</td>\n      <td>0.127119</td>\n      <td>...</td>\n      <td>0.0</td>\n      <td>0.0</td>\n    </tr>\n    <tr>\n      <th>97</th>\n      <td>0.494624</td>\n      <td>0.069915</td>\n      <td>...</td>\n      <td>0.0</td>\n      <td>0.0</td>\n    </tr>\n    <tr>\n      <th>98</th>\n      <td>0.494624</td>\n      <td>0.046610</td>\n      <td>...</td>\n      <td>0.0</td>\n      <td>0.0</td>\n    </tr>\n    <tr>\n      <th>99</th>\n      <td>0.494624</td>\n      <td>0.052966</td>\n      <td>...</td>\n      <td>0.0</td>\n      <td>0.0</td>\n    </tr>\n  </tbody>\n</table>\n<p>100 rows × 38 columns</p>\n</div>"
     },
     "execution_count": 9,
     "metadata": {},
     "output_type": "execute_result"
    }
   ],
   "source": [
    "df_pd"
   ],
   "metadata": {
    "collapsed": false
   }
  },
  {
   "cell_type": "markdown",
   "source": [
    "However, to use this dataset for metrics correlation later, each row needs to represent a metric. Therefore, we need to transpose it before populating the index."
   ],
   "metadata": {
    "collapsed": false
   }
  },
  {
   "cell_type": "code",
   "execution_count": 10,
   "outputs": [
    {
     "data": {
      "text/plain": "          0         1   ...        98        99\n0   0.096774  0.107527  ...  0.494624  0.494624\n1   0.088983  0.062500  ...  0.046610  0.052966\n2   0.090301  0.081382  ...  0.060201  0.059086\n3   0.102207  0.097561  ...  0.052265  0.052265\n4   0.000000  0.000000  ...  0.000000  0.000000\n..       ...       ...  ...       ...       ...\n33  0.000022  0.000034  ...  0.000034  0.000022\n34  0.102150  0.103308  ...  0.047709  0.052994\n35  0.102143  0.103301  ...  0.047705  0.052990\n36  0.000000  0.000000  ...  0.000000  0.000000\n37  0.000000  0.000000  ...  0.000000  0.000000\n\n[38 rows x 100 columns]",
      "text/html": "<div>\n<style scoped>\n    .dataframe tbody tr th:only-of-type {\n        vertical-align: middle;\n    }\n\n    .dataframe tbody tr th {\n        vertical-align: top;\n    }\n\n    .dataframe thead th {\n        text-align: right;\n    }\n</style>\n<table border=\"1\" class=\"dataframe\">\n  <thead>\n    <tr style=\"text-align: right;\">\n      <th></th>\n      <th>0</th>\n      <th>1</th>\n      <th>...</th>\n      <th>98</th>\n      <th>99</th>\n    </tr>\n  </thead>\n  <tbody>\n    <tr>\n      <th>0</th>\n      <td>0.096774</td>\n      <td>0.107527</td>\n      <td>...</td>\n      <td>0.494624</td>\n      <td>0.494624</td>\n    </tr>\n    <tr>\n      <th>1</th>\n      <td>0.088983</td>\n      <td>0.062500</td>\n      <td>...</td>\n      <td>0.046610</td>\n      <td>0.052966</td>\n    </tr>\n    <tr>\n      <th>2</th>\n      <td>0.090301</td>\n      <td>0.081382</td>\n      <td>...</td>\n      <td>0.060201</td>\n      <td>0.059086</td>\n    </tr>\n    <tr>\n      <th>3</th>\n      <td>0.102207</td>\n      <td>0.097561</td>\n      <td>...</td>\n      <td>0.052265</td>\n      <td>0.052265</td>\n    </tr>\n    <tr>\n      <th>4</th>\n      <td>0.000000</td>\n      <td>0.000000</td>\n      <td>...</td>\n      <td>0.000000</td>\n      <td>0.000000</td>\n    </tr>\n    <tr>\n      <th>...</th>\n      <td>...</td>\n      <td>...</td>\n      <td>...</td>\n      <td>...</td>\n      <td>...</td>\n    </tr>\n    <tr>\n      <th>33</th>\n      <td>0.000022</td>\n      <td>0.000034</td>\n      <td>...</td>\n      <td>0.000034</td>\n      <td>0.000022</td>\n    </tr>\n    <tr>\n      <th>34</th>\n      <td>0.102150</td>\n      <td>0.103308</td>\n      <td>...</td>\n      <td>0.047709</td>\n      <td>0.052994</td>\n    </tr>\n    <tr>\n      <th>35</th>\n      <td>0.102143</td>\n      <td>0.103301</td>\n      <td>...</td>\n      <td>0.047705</td>\n      <td>0.052990</td>\n    </tr>\n    <tr>\n      <th>36</th>\n      <td>0.000000</td>\n      <td>0.000000</td>\n      <td>...</td>\n      <td>0.000000</td>\n      <td>0.000000</td>\n    </tr>\n    <tr>\n      <th>37</th>\n      <td>0.000000</td>\n      <td>0.000000</td>\n      <td>...</td>\n      <td>0.000000</td>\n      <td>0.000000</td>\n    </tr>\n  </tbody>\n</table>\n<p>38 rows × 100 columns</p>\n</div>"
     },
     "execution_count": 10,
     "metadata": {},
     "output_type": "execute_result"
    }
   ],
   "source": [
    "df_pd_transposed = df_pd.transpose()\n",
    "df_pd_transposed"
   ],
   "metadata": {
    "collapsed": false
   }
  },
  {
   "cell_type": "code",
   "execution_count": 12,
   "outputs": [],
   "source": [
    "# Creating and populating an index with the dataset\n",
    "df = oml.pandas_to_opensearch(df_pd_transposed,\n",
    "                    os_client=client,\n",
    "                     os_dest_index='smd',\n",
    "                    os_if_exists=\"replace\",\n",
    "                    os_refresh=True,)"
   ],
   "metadata": {
    "collapsed": false
   }
  },
  {
   "cell_type": "code",
   "execution_count": 13,
   "outputs": [
    {
     "data": {
      "text/plain": "           0         1  ...        98        99\n0   0.096774  0.107527  ...  0.494624  0.494624\n1   0.088983  0.062500  ...  0.046610  0.052966\n2   0.090301  0.081382  ...  0.060201  0.059086\n3   0.102207  0.097561  ...  0.052265  0.052265\n4   0.000000  0.000000  ...  0.000000  0.000000\n..       ...       ...  ...       ...       ...\n33  0.000022  0.000034  ...  0.000034  0.000022\n34  0.102150  0.103308  ...  0.047709  0.052994\n35  0.102143  0.103301  ...  0.047705  0.052990\n36  0.000000  0.000000  ...  0.000000  0.000000\n37  0.000000  0.000000  ...  0.000000  0.000000\n\n[38 rows x 100 columns]",
      "text/html": "<div>\n<style scoped>\n    .dataframe tbody tr th:only-of-type {\n        vertical-align: middle;\n    }\n\n    .dataframe tbody tr th {\n        vertical-align: top;\n    }\n\n    .dataframe thead th {\n        text-align: right;\n    }\n</style>\n<table border=\"1\" class=\"dataframe\">\n  <thead>\n    <tr style=\"text-align: right;\">\n      <th></th>\n      <th>0</th>\n      <th>1</th>\n      <th>...</th>\n      <th>98</th>\n      <th>99</th>\n    </tr>\n  </thead>\n  <tbody>\n    <tr>\n      <th>0</th>\n      <td>0.096774</td>\n      <td>0.107527</td>\n      <td>...</td>\n      <td>0.494624</td>\n      <td>0.494624</td>\n    </tr>\n    <tr>\n      <th>1</th>\n      <td>0.088983</td>\n      <td>0.062500</td>\n      <td>...</td>\n      <td>0.046610</td>\n      <td>0.052966</td>\n    </tr>\n    <tr>\n      <th>2</th>\n      <td>0.090301</td>\n      <td>0.081382</td>\n      <td>...</td>\n      <td>0.060201</td>\n      <td>0.059086</td>\n    </tr>\n    <tr>\n      <th>3</th>\n      <td>0.102207</td>\n      <td>0.097561</td>\n      <td>...</td>\n      <td>0.052265</td>\n      <td>0.052265</td>\n    </tr>\n    <tr>\n      <th>4</th>\n      <td>0.000000</td>\n      <td>0.000000</td>\n      <td>...</td>\n      <td>0.000000</td>\n      <td>0.000000</td>\n    </tr>\n    <tr>\n      <th>...</th>\n      <td>...</td>\n      <td>...</td>\n      <td>...</td>\n      <td>...</td>\n      <td>...</td>\n    </tr>\n    <tr>\n      <th>33</th>\n      <td>0.000022</td>\n      <td>0.000034</td>\n      <td>...</td>\n      <td>0.000034</td>\n      <td>0.000022</td>\n    </tr>\n    <tr>\n      <th>34</th>\n      <td>0.102150</td>\n      <td>0.103308</td>\n      <td>...</td>\n      <td>0.047709</td>\n      <td>0.052994</td>\n    </tr>\n    <tr>\n      <th>35</th>\n      <td>0.102143</td>\n      <td>0.103301</td>\n      <td>...</td>\n      <td>0.047705</td>\n      <td>0.052990</td>\n    </tr>\n    <tr>\n      <th>36</th>\n      <td>0.000000</td>\n      <td>0.000000</td>\n      <td>...</td>\n      <td>0.000000</td>\n      <td>0.000000</td>\n    </tr>\n    <tr>\n      <th>37</th>\n      <td>0.000000</td>\n      <td>0.000000</td>\n      <td>...</td>\n      <td>0.000000</td>\n      <td>0.000000</td>\n    </tr>\n  </tbody>\n</table>\n</div>\n<p>38 rows × 100 columns</p>"
     },
     "execution_count": 13,
     "metadata": {},
     "output_type": "execute_result"
    }
   ],
   "source": [
    "df"
   ],
   "metadata": {
    "collapsed": false
   }
  },
  {
   "cell_type": "markdown",
   "source": [
    "Since we did not provide column names, they are just numbers. And a new id field is used to index data."
   ],
   "metadata": {
    "collapsed": false
   }
  },
  {
   "cell_type": "code",
   "execution_count": 14,
   "outputs": [
    {
     "name": "stdout",
     "output_type": "stream",
     "text": [
      "Index(['0', '1', '10', '11', '12', '13', '14', '15', '16', '17', '18', '19', '2', '20', '21', '22',\n",
      "       '23', '24', '25', '26', '27', '28', '29', '3', '30', '31', '32', '33', '34', '35', '36',\n",
      "       '37', '38', '39', '4', '40', '41', '42', '43', '44', '45', '46', '47', '48', '49', '5',\n",
      "       '50', '51', '52', '53', '54', '55', '56', '57', '58', '59', '6', '60', '61', '62', '63',\n",
      "       '64', '65', '66', '67', '68', '69', '7', '70', '71', '72', '73', '74', '75', '76', '77',\n",
      "       '78', '79', '8', '80', '81', '82', '83', '84', '85', '86', '87', '88', '89', '9', '90',\n",
      "       '91', '92', '93', '94', '95', '96', '97', '98', '99'],\n",
      "      dtype='object')\n",
      "_id\n"
     ]
    }
   ],
   "source": [
    "print(df.columns)\n",
    "print(df.index.os_index_field)"
   ],
   "metadata": {
    "collapsed": false
   }
  },
  {
   "cell_type": "code",
   "execution_count": 15,
   "outputs": [
    {
     "name": "stdout",
     "output_type": "stream",
     "text": [
      "os_index_pattern: smd\n",
      "Index:\n",
      " os_index_field: _id\n",
      " is_source_field: False\n",
      "Mappings:\n",
      " capabilities:\n",
      "   os_field_name  is_source os_dtype os_date_format pd_dtype  is_searchable  is_aggregatable  is_scripted aggregatable_os_field_name\n",
      "0              0       True   double           None  float64           True             True        False                          0\n",
      "1              1       True   double           None  float64           True             True        False                          1\n",
      "10            10       True   double           None  float64           True             True        False                         10\n",
      "11            11       True   double           None  float64           True             True        False                         11\n",
      "12            12       True   double           None  float64           True             True        False                         12\n",
      "13            13       True   double           None  float64           True             True        False                         13\n",
      "14            14       True   double           None  float64           True             True        False                         14\n",
      "15            15       True   double           None  float64           True             True        False                         15\n",
      "16            16       True   double           None  float64           True             True        False                         16\n",
      "17            17       True   double           None  float64           True             True        False                         17\n",
      "18            18       True   double           None  float64           True             True        False                         18\n",
      "19            19       True   double           None  float64           True             True        False                         19\n",
      "2              2       True   double           None  float64           True             True        False                          2\n",
      "20            20       True   double           None  float64           True             True        False                         20\n",
      "21            21       True   double           None  float64           True             True        False                         21\n",
      "22            22       True   double           None  float64           True             True        False                         22\n",
      "23            23       True   double           None  float64           True             True        False                         23\n",
      "24            24       True   double           None  float64           True             True        False                         24\n",
      "25            25       True   double           None  float64           True             True        False                         25\n",
      "26            26       True   double           None  float64           True             True        False                         26\n",
      "27            27       True   double           None  float64           True             True        False                         27\n",
      "28            28       True   double           None  float64           True             True        False                         28\n",
      "29            29       True   double           None  float64           True             True        False                         29\n",
      "3              3       True   double           None  float64           True             True        False                          3\n",
      "30            30       True   double           None  float64           True             True        False                         30\n",
      "31            31       True   double           None  float64           True             True        False                         31\n",
      "32            32       True   double           None  float64           True             True        False                         32\n",
      "33            33       True   double           None  float64           True             True        False                         33\n",
      "34            34       True   double           None  float64           True             True        False                         34\n",
      "35            35       True   double           None  float64           True             True        False                         35\n",
      "36            36       True   double           None  float64           True             True        False                         36\n",
      "37            37       True   double           None  float64           True             True        False                         37\n",
      "38            38       True   double           None  float64           True             True        False                         38\n",
      "39            39       True   double           None  float64           True             True        False                         39\n",
      "4              4       True   double           None  float64           True             True        False                          4\n",
      "40            40       True   double           None  float64           True             True        False                         40\n",
      "41            41       True   double           None  float64           True             True        False                         41\n",
      "42            42       True   double           None  float64           True             True        False                         42\n",
      "43            43       True   double           None  float64           True             True        False                         43\n",
      "44            44       True   double           None  float64           True             True        False                         44\n",
      "45            45       True   double           None  float64           True             True        False                         45\n",
      "46            46       True   double           None  float64           True             True        False                         46\n",
      "47            47       True   double           None  float64           True             True        False                         47\n",
      "48            48       True   double           None  float64           True             True        False                         48\n",
      "49            49       True   double           None  float64           True             True        False                         49\n",
      "5              5       True   double           None  float64           True             True        False                          5\n",
      "50            50       True   double           None  float64           True             True        False                         50\n",
      "51            51       True   double           None  float64           True             True        False                         51\n",
      "52            52       True   double           None  float64           True             True        False                         52\n",
      "53            53       True   double           None  float64           True             True        False                         53\n",
      "54            54       True   double           None  float64           True             True        False                         54\n",
      "55            55       True   double           None  float64           True             True        False                         55\n",
      "56            56       True   double           None  float64           True             True        False                         56\n",
      "57            57       True   double           None  float64           True             True        False                         57\n",
      "58            58       True   double           None  float64           True             True        False                         58\n",
      "59            59       True   double           None  float64           True             True        False                         59\n",
      "6              6       True   double           None  float64           True             True        False                          6\n",
      "60            60       True   double           None  float64           True             True        False                         60\n",
      "61            61       True   double           None  float64           True             True        False                         61\n",
      "62            62       True   double           None  float64           True             True        False                         62\n",
      "63            63       True   double           None  float64           True             True        False                         63\n",
      "64            64       True   double           None  float64           True             True        False                         64\n",
      "65            65       True   double           None  float64           True             True        False                         65\n",
      "66            66       True   double           None  float64           True             True        False                         66\n",
      "67            67       True   double           None  float64           True             True        False                         67\n",
      "68            68       True   double           None  float64           True             True        False                         68\n",
      "69            69       True   double           None  float64           True             True        False                         69\n",
      "7              7       True   double           None  float64           True             True        False                          7\n",
      "70            70       True   double           None  float64           True             True        False                         70\n",
      "71            71       True   double           None  float64           True             True        False                         71\n",
      "72            72       True   double           None  float64           True             True        False                         72\n",
      "73            73       True   double           None  float64           True             True        False                         73\n",
      "74            74       True   double           None  float64           True             True        False                         74\n",
      "75            75       True   double           None  float64           True             True        False                         75\n",
      "76            76       True   double           None  float64           True             True        False                         76\n",
      "77            77       True   double           None  float64           True             True        False                         77\n",
      "78            78       True   double           None  float64           True             True        False                         78\n",
      "79            79       True   double           None  float64           True             True        False                         79\n",
      "8              8       True   double           None  float64           True             True        False                          8\n",
      "80            80       True   double           None  float64           True             True        False                         80\n",
      "81            81       True   double           None  float64           True             True        False                         81\n",
      "82            82       True   double           None  float64           True             True        False                         82\n",
      "83            83       True   double           None  float64           True             True        False                         83\n",
      "84            84       True   double           None  float64           True             True        False                         84\n",
      "85            85       True   double           None  float64           True             True        False                         85\n",
      "86            86       True   double           None  float64           True             True        False                         86\n",
      "87            87       True   double           None  float64           True             True        False                         87\n",
      "88            88       True   double           None  float64           True             True        False                         88\n",
      "89            89       True   double           None  float64           True             True        False                         89\n",
      "9              9       True   double           None  float64           True             True        False                          9\n",
      "90            90       True   double           None  float64           True             True        False                         90\n",
      "91            91       True   double           None  float64           True             True        False                         91\n",
      "92            92       True   double           None  float64           True             True        False                         92\n",
      "93            93       True   double           None  float64           True             True        False                         93\n",
      "94            94       True   double           None  float64           True             True        False                         94\n",
      "95            95       True   double           None  float64           True             True        False                         95\n",
      "96            96       True   double           None  float64           True             True        False                         96\n",
      "97            97       True   double           None  float64           True             True        False                         97\n",
      "98            98       True   double           None  float64           True             True        False                         98\n",
      "99            99       True   double           None  float64           True             True        False                         99\n",
      "Operations:\n",
      " tasks: []\n",
      " size: None\n",
      " sort_params: None\n",
      " _source: ['0', '1', '10', '11', '12', '13', '14', '15', '16', '17', '18', '19', '2', '20', '21', '22', '23', '24', '25', '26', '27', '28', '29', '3', '30', '31', '32', '33', '34', '35', '36', '37', '38', '39', '4', '40', '41', '42', '43', '44', '45', '46', '47', '48', '49', '5', '50', '51', '52', '53', '54', '55', '56', '57', '58', '59', '6', '60', '61', '62', '63', '64', '65', '66', '67', '68', '69', '7', '70', '71', '72', '73', '74', '75', '76', '77', '78', '79', '8', '80', '81', '82', '83', '84', '85', '86', '87', '88', '89', '9', '90', '91', '92', '93', '94', '95', '96', '97', '98', '99']\n",
      " body: {}\n",
      " post_processing: []\n",
      "\n"
     ]
    }
   ],
   "source": [
    "print(df.os_info())"
   ],
   "metadata": {
    "collapsed": false
   }
  },
  {
   "cell_type": "markdown",
   "source": [
    "## Step 3: Metrics correlation\n"
   ],
   "metadata": {
    "collapsed": false
   }
  },
  {
   "cell_type": "code",
   "execution_count": null,
   "outputs": [],
   "source": [
    "input_json = {\n",
    "    \"metrics\": df\n",
    "}"
   ],
   "metadata": {
    "collapsed": false
   }
  },
  {
   "cell_type": "code",
   "execution_count": 1,
   "outputs": [
    {
     "ename": "NameError",
     "evalue": "name 'ml_client' is not defined",
     "output_type": "error",
     "traceback": [
      "\u001B[0;31m---------------------------------------------------------------------------\u001B[0m",
      "\u001B[0;31mNameError\u001B[0m                                 Traceback (most recent call last)",
      "\u001B[0;32m/var/folders/cn/6wg2pn9s2ps8fwscv0nmm55w0000gp/T/ipykernel_1556/3496315434.py\u001B[0m in \u001B[0;36m<cell line: 1>\u001B[0;34m()\u001B[0m\n\u001B[0;32m----> 1\u001B[0;31m results = ml_client.execute(\n\u001B[0m\u001B[1;32m      2\u001B[0m     \u001B[0malgorithm_name\u001B[0m \u001B[0;34m=\u001B[0m \u001B[0;34m\"METRICS_CORRELATION\"\u001B[0m\u001B[0;34m,\u001B[0m\u001B[0;34m\u001B[0m\u001B[0;34m\u001B[0m\u001B[0m\n\u001B[1;32m      3\u001B[0m     \u001B[0minput_json\u001B[0m \u001B[0;34m=\u001B[0m \u001B[0minput_json\u001B[0m\u001B[0;34m\u001B[0m\u001B[0;34m\u001B[0m\u001B[0m\n\u001B[1;32m      4\u001B[0m )\n\u001B[1;32m      5\u001B[0m \u001B[0mresults\u001B[0m\u001B[0;34m\u001B[0m\u001B[0;34m\u001B[0m\u001B[0m\n",
      "\u001B[0;31mNameError\u001B[0m: name 'ml_client' is not defined"
     ]
    }
   ],
   "source": [
    "results = ml_client.execute(\n",
    "    algorithm_name = \"METRICS_CORRELATION\",\n",
    "    input_json = input_json\n",
    ")\n",
    "results\n"
   ],
   "metadata": {
    "collapsed": false
   }
  },
  {
   "cell_type": "markdown",
   "source": [
    "## Step 4: Result visualization\n"
   ],
   "metadata": {
    "collapsed": false
   }
  },
  {
   "cell_type": "code",
   "execution_count": null,
   "outputs": [],
   "source": [
    "plt.plot(df_pd.index, df_pd)\n",
    "plt.title(\"All metrics\")\n"
   ],
   "metadata": {
    "collapsed": false
   }
  }
 ],
 "metadata": {
  "kernelspec": {
   "display_name": "Python 3",
   "language": "python",
   "name": "python3"
  },
  "language_info": {
   "codemirror_mode": {
    "name": "ipython",
    "version": 2
   },
   "file_extension": ".py",
   "mimetype": "text/x-python",
   "name": "python",
   "nbconvert_exporter": "python",
   "pygments_lexer": "ipython2",
   "version": "2.7.6"
  }
 },
 "nbformat": 4,
 "nbformat_minor": 0
}
